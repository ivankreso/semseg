{
 "cells": [
  {
   "cell_type": "code",
   "execution_count": null,
   "metadata": {
    "collapsed": false
   },
   "outputs": [
    {
     "data": {
      "text/html": [
       "\n",
       "    <div class=\"bk-banner\">\n",
       "        <a href=\"http://bokeh.pydata.org\" target=\"_blank\" class=\"bk-logo bk-logo-small bk-logo-notebook\"></a>\n",
       "        <span id=\"e1018fa0-2e54-4052-a0e5-fae01e3ad701\">Loading BokehJS ...</span>\n",
       "    </div>"
      ]
     },
     "metadata": {},
     "output_type": "display_data"
    },
    {
     "data": {
      "application/javascript": [
       "\n",
       "(function(global) {\n",
       "  function now() {\n",
       "    return new Date();\n",
       "  }\n",
       "\n",
       "  if (typeof (window._bokeh_onload_callbacks) === \"undefined\") {\n",
       "    window._bokeh_onload_callbacks = [];\n",
       "  }\n",
       "\n",
       "  function run_callbacks() {\n",
       "    window._bokeh_onload_callbacks.forEach(function(callback) { callback() });\n",
       "    delete window._bokeh_onload_callbacks\n",
       "    console.info(\"Bokeh: all callbacks have finished\");\n",
       "  }\n",
       "\n",
       "  function load_libs(js_urls, callback) {\n",
       "    window._bokeh_onload_callbacks.push(callback);\n",
       "    if (window._bokeh_is_loading > 0) {\n",
       "      console.log(\"Bokeh: BokehJS is being loaded, scheduling callback at\", now());\n",
       "      return null;\n",
       "    }\n",
       "    if (js_urls == null || js_urls.length === 0) {\n",
       "      run_callbacks();\n",
       "      return null;\n",
       "    }\n",
       "    console.log(\"Bokeh: BokehJS not loaded, scheduling load and callback at\", now());\n",
       "    window._bokeh_is_loading = js_urls.length;\n",
       "    for (var i = 0; i < js_urls.length; i++) {\n",
       "      var url = js_urls[i];\n",
       "      var s = document.createElement('script');\n",
       "      s.src = url;\n",
       "      s.async = false;\n",
       "      s.onreadystatechange = s.onload = function() {\n",
       "        window._bokeh_is_loading--;\n",
       "        if (window._bokeh_is_loading === 0) {\n",
       "          console.log(\"Bokeh: all BokehJS libraries loaded\");\n",
       "          run_callbacks()\n",
       "        }\n",
       "      };\n",
       "      s.onerror = function() {\n",
       "        console.warn(\"failed to load library \" + url);\n",
       "      };\n",
       "      console.log(\"Bokeh: injecting script tag for BokehJS library: \", url);\n",
       "      document.getElementsByTagName(\"head\")[0].appendChild(s);\n",
       "    }\n",
       "  };\n",
       "\n",
       "  var js_urls = ['https://cdn.pydata.org/bokeh/release/bokeh-0.11.1.min.js', 'https://cdn.pydata.org/bokeh/release/bokeh-widgets-0.11.1.min.js', 'https://cdn.pydata.org/bokeh/release/bokeh-compiler-0.11.1.min.js'];\n",
       "\n",
       "  var inline_js = [\n",
       "    function(Bokeh) {\n",
       "      Bokeh.set_log_level(\"info\");\n",
       "    },\n",
       "    \n",
       "    function(Bokeh) {\n",
       "      Bokeh.$(\"#e1018fa0-2e54-4052-a0e5-fae01e3ad701\").text(\"BokehJS successfully loaded\");\n",
       "    },\n",
       "    function(Bokeh) {\n",
       "      console.log(\"Bokeh: injecting CSS: https://cdn.pydata.org/bokeh/release/bokeh-0.11.1.min.css\");\n",
       "      Bokeh.embed.inject_css(\"https://cdn.pydata.org/bokeh/release/bokeh-0.11.1.min.css\");\n",
       "      console.log(\"Bokeh: injecting CSS: https://cdn.pydata.org/bokeh/release/bokeh-widgets-0.11.1.min.css\");\n",
       "      Bokeh.embed.inject_css(\"https://cdn.pydata.org/bokeh/release/bokeh-widgets-0.11.1.min.css\");\n",
       "    }\n",
       "  ];\n",
       "\n",
       "  function run_inline_js() {\n",
       "    for (var i = 0; i < inline_js.length; i++) {\n",
       "      inline_js[i](window.Bokeh);\n",
       "    }\n",
       "  }\n",
       "\n",
       "  if (window._bokeh_is_loading === 0) {\n",
       "    console.log(\"Bokeh: BokehJS loaded, going straight to plotting\");\n",
       "    run_inline_js();\n",
       "  } else {\n",
       "    load_libs(js_urls, function() {\n",
       "      console.log(\"Bokeh: BokehJS plotting callback run at\", now());\n",
       "      run_inline_js();\n",
       "    });\n",
       "  }\n",
       "}(this));"
      ]
     },
     "metadata": {},
     "output_type": "display_data"
    }
   ],
   "source": [
    "#notebook se kolje s ucenjem?...\n",
    "\n",
    "import tensorflow as tf\n",
    "import numpy as np\n",
    "import skimage as ski\n",
    "import skimage.data, skimage.transform\n",
    "import models.vgg_16s as model\n",
    "import importlib.util\n",
    "from tqdm import trange\n",
    "from bokeh.plotting import figure, show, output_notebook\n",
    "from bokeh.io import push_notebook\n",
    "output_notebook()\n",
    "\n",
    "from eval_helper import *\n",
    "import libs.cylib as cylib\n",
    "\n",
    "from datasets.cityscapes.cityscapes import CityscapesDataset\n",
    "from datasets.cityscapes.cityscapes_info import class_info, class_color_map\n",
    "import datasets.reader as reader\n",
    "\n",
    "tf.app.flags.DEFINE_integer('img_width', 1024, '')\n",
    "tf.app.flags.DEFINE_integer('img_height', 432, '')\n",
    "tf.app.flags.DEFINE_integer('img_depth', 3, '')\n",
    "\n",
    "tf.app.flags.DEFINE_string('dataset_dir',\n",
    "    '/home/kivan/datasets/Cityscapes/tensorflow/records/1024x432/', '')\n",
    "tf.app.flags.DEFINE_integer('max_steps', 10000,\n",
    "                            \"\"\"Number of batches to run.\"\"\")\n",
    "tf.app.flags.DEFINE_integer('batch_size', 1, '')\n",
    "tf.app.flags.DEFINE_integer('num_classes', 19, '')\n",
    "tf.app.flags.DEFINE_boolean('log_device_placement', False,\n",
    "                            \"\"\"Whether to log device placement.\"\"\")\n",
    "tf.app.flags.DEFINE_boolean('is_training', False, '')\n",
    "\n",
    "FLAGS = tf.app.flags.FLAGS\n",
    "\n",
    "#g_net_dir = '/home/kivan/source/results/semseg/tf/nets/23_3_13:39:43/'\n",
    "#g_net_dir = '/home/kivan/source/results/semseg/tf/nets/14_4_22-21-28/'\n",
    "g_net_dir = '/home/kivan/source/results/semseg/tf/nets/20_4_15-31-24/'\n",
    "g_model_path = g_net_dir + 'model.py'\n",
    "spec = importlib.util.spec_from_file_location(\"model\", g_model_path)\n",
    "model = importlib.util.module_from_spec(spec)\n",
    "spec.loader.exec_module(model)"
   ]
  },
  {
   "cell_type": "code",
   "execution_count": null,
   "metadata": {
    "collapsed": false,
    "scrolled": false
   },
   "outputs": [
    {
     "name": "stdout",
     "output_type": "stream",
     "text": [
      "/home/kivan/source/results/semseg/tf/nets/20_4_15-31-24/model.ckpt-1\n"
     ]
    },
    {
     "name": "stderr",
     "output_type": "stream",
     "text": []
    },
    {
     "name": "stdout",
     "output_type": "stream",
     "text": [
      "42.5225702353\n",
      "/home/kivan/source/results/semseg/tf/nets/20_4_15-31-24/model.ckpt-2\n"
     ]
    },
    {
     "name": "stderr",
     "output_type": "stream",
     "text": []
    },
    {
     "name": "stdout",
     "output_type": "stream",
     "text": [
      "48.9253136155\n",
      "/home/kivan/source/results/semseg/tf/nets/20_4_15-31-24/model.ckpt-3\n"
     ]
    },
    {
     "name": "stderr",
     "output_type": "stream",
     "text": []
    },
    {
     "name": "stdout",
     "output_type": "stream",
     "text": [
      "51.4307056396\n",
      "/home/kivan/source/results/semseg/tf/nets/20_4_15-31-24/model.ckpt-4\n"
     ]
    },
    {
     "name": "stderr",
     "output_type": "stream",
     "text": []
    },
    {
     "name": "stdout",
     "output_type": "stream",
     "text": [
      "53.5818570761\n",
      "/home/kivan/source/results/semseg/tf/nets/20_4_15-31-24/model.ckpt-5\n"
     ]
    },
    {
     "name": "stderr",
     "output_type": "stream",
     "text": []
    },
    {
     "name": "stdout",
     "output_type": "stream",
     "text": [
      "54.0552530035\n",
      "/home/kivan/source/results/semseg/tf/nets/20_4_15-31-24/model.ckpt-6\n"
     ]
    },
    {
     "name": "stderr",
     "output_type": "stream",
     "text": []
    },
    {
     "name": "stdout",
     "output_type": "stream",
     "text": [
      "55.8443161822\n",
      "/home/kivan/source/results/semseg/tf/nets/20_4_15-31-24/model.ckpt-7\n"
     ]
    },
    {
     "name": "stderr",
     "output_type": "stream",
     "text": []
    },
    {
     "name": "stdout",
     "output_type": "stream",
     "text": [
      "56.6474830667\n",
      "/home/kivan/source/results/semseg/tf/nets/20_4_15-31-24/model.ckpt-8\n"
     ]
    },
    {
     "name": "stderr",
     "output_type": "stream",
     "text": []
    },
    {
     "name": "stdout",
     "output_type": "stream",
     "text": [
      "55.5196122541\n",
      "/home/kivan/source/results/semseg/tf/nets/20_4_15-31-24/model.ckpt-9\n"
     ]
    },
    {
     "name": "stderr",
     "output_type": "stream",
     "text": []
    },
    {
     "name": "stdout",
     "output_type": "stream",
     "text": [
      "57.2482742945\n",
      "/home/kivan/source/results/semseg/tf/nets/20_4_15-31-24/model.ckpt-10\n"
     ]
    },
    {
     "name": "stderr",
     "output_type": "stream",
     "text": []
    },
    {
     "name": "stdout",
     "output_type": "stream",
     "text": [
      "56.7664318238\n",
      "/home/kivan/source/results/semseg/tf/nets/20_4_15-31-24/model.ckpt-11\n"
     ]
    },
    {
     "name": "stderr",
     "output_type": "stream",
     "text": []
    },
    {
     "name": "stdout",
     "output_type": "stream",
     "text": [
      "56.6275262949\n",
      "/home/kivan/source/results/semseg/tf/nets/20_4_15-31-24/model.ckpt-12\n"
     ]
    },
    {
     "name": "stderr",
     "output_type": "stream",
     "text": []
    },
    {
     "name": "stdout",
     "output_type": "stream",
     "text": [
      "56.0128620383\n",
      "/home/kivan/source/results/semseg/tf/nets/20_4_15-31-24/model.ckpt-13\n"
     ]
    },
    {
     "name": "stderr",
     "output_type": "stream",
     "text": []
    },
    {
     "name": "stdout",
     "output_type": "stream",
     "text": [
      "56.151355025\n",
      "/home/kivan/source/results/semseg/tf/nets/20_4_15-31-24/model.ckpt-14\n"
     ]
    },
    {
     "name": "stderr",
     "output_type": "stream",
     "text": [
      " 22%|██▏       | 11/50 [00:03<00:11,  3.44it/s]"
     ]
    }
   ],
   "source": [
    "def evaluate_model(sess, dataset, logits, labels):\n",
    "  conf_mat = np.ascontiguousarray(np.zeros((FLAGS.num_classes, FLAGS.num_classes), dtype=np.uint64))\n",
    "  for i in trange(dataset.num_examples()):\n",
    "    #_, loss_value = sess.run([train_op, loss])\n",
    "    out_logits, yt, q_size = sess.run([logits, labels, queue.size()])\n",
    "    y = out_logits[0].argmax(2).astype(np.int32, copy=False)\n",
    "    yt = yt.astype(np.int32, copy=False)\n",
    "    cylib.collect_confusion_matrix(y.reshape(-1), yt, conf_mat)\n",
    "    #print(q_size)\n",
    "  return compute_errors(conf_mat, 'Validation', class_info, verbose=False)\n",
    "\n",
    "p_iou = figure(plot_width=600, plot_height=400)\n",
    "p_pix = figure(plot_width=600, plot_height=400)\n",
    "p_iou.title = 'IoU accuracy'\n",
    "p_pix.title = 'Pixel accuracy'\n",
    "#p_iou.line([1, 2, 3, 4, 5], [6, 7, 2, 4, 5], line_width=2)\n",
    "# add a line renderer\n",
    "#push_notebook()\n",
    "\n",
    "\n",
    "pixel_acc_lst = []\n",
    "iou_acc_lst = []\n",
    "dataset = CityscapesDataset(FLAGS.dataset_dir, 'val')\n",
    "ckpt = tf.train.get_checkpoint_state(g_net_dir)\n",
    "\n",
    "\n",
    "if ckpt and ckpt.model_checkpoint_path:\n",
    "  split_name = ckpt.model_checkpoint_path.split('/')[-1].split('-')\n",
    "  prefix = split_name[-2]\n",
    "  last_num = int(split_name[-1])\n",
    "  for i in range(1, last_num+1):\n",
    "    with tf.Graph().as_default():\n",
    "      sess = tf.Session()\n",
    "      image, labels, _, _, img_name, queue = reader.inputs_for_inference(sess, dataset)\n",
    "      # Restores from checkpoint\n",
    "      #with tf.Session() as sess:\n",
    "      logits_sub = model.inference(image)\n",
    "      logits = tf.image.resize_bilinear(logits_sub, [FLAGS.img_height, FLAGS.img_width])\n",
    "      saver = tf.train.Saver()\n",
    "      checkpoint_path = g_net_dir + prefix + '-' + str(i)\n",
    "      print(checkpoint_path)\n",
    "      saver.restore(sess, checkpoint_path)\n",
    "      # Start the queue runners.\n",
    "      coord = tf.train.Coordinator()\n",
    "      data_threads = tf.train.start_queue_runners(sess=sess, coord=coord)\n",
    "      pixel_acc, iou_acc, recall, precision, num_pixels = evaluate_model(sess, dataset, logits, labels)\n",
    "      pixel_acc_lst += [pixel_acc]\n",
    "      iou_acc_lst += [iou_acc]\n",
    "      print(iou_acc)\n",
    "      #tf.reset_default_graph() - bad\n",
    "      #push_notebook()\n",
    "      # must call before join\n",
    "      coord.request_stop()\n",
    "      sess.close()\n",
    "      coord.join(data_threads)\n",
    "  x = np.linspace(0, len(iou_acc_lst)-1, len(iou_acc_lst))\n",
    "  p_iou.line(x, iou_acc_lst, line_width=2)\n",
    "  p_pix.line(x, pixel_acc_lst, line_width=2)\n",
    "  show(p_iou)\n",
    "  show(p_pix)\n",
    "\n",
    "else:\n",
    "  print('No checkpoint file found')\n",
    "  raise"
   ]
  },
  {
   "cell_type": "code",
   "execution_count": 3,
   "metadata": {
    "collapsed": false
   },
   "outputs": [
    {
     "data": {
      "text/plain": [
       "[]"
      ]
     },
     "execution_count": 3,
     "metadata": {},
     "output_type": "execute_result"
    }
   ],
   "source": []
  },
  {
   "cell_type": "code",
   "execution_count": null,
   "metadata": {
    "collapsed": true
   },
   "outputs": [],
   "source": []
  }
 ],
 "metadata": {
  "kernelspec": {
   "display_name": "Python 3",
   "language": "python",
   "name": "python3"
  },
  "language_info": {
   "codemirror_mode": {
    "name": "ipython",
    "version": 3
   },
   "file_extension": ".py",
   "mimetype": "text/x-python",
   "name": "python",
   "nbconvert_exporter": "python",
   "pygments_lexer": "ipython3",
   "version": "3.5.1"
  }
 },
 "nbformat": 4,
 "nbformat_minor": 0
}
