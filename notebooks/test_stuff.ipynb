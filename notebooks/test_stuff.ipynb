{
 "cells": [
  {
   "cell_type": "code",
   "execution_count": 32,
   "metadata": {
    "collapsed": false
   },
   "outputs": [
    {
     "name": "stdout",
     "output_type": "stream",
     "text": [
      "[b'/temp/dir1/1']\n",
      "[b'/temp/dir1/7']\n",
      "[b'/temp/dir1/6']\n",
      "[b'/temp/dir1/2']\n",
      "[b'/temp/dir1/5']\n",
      "[b'/temp/dir1/0']\n",
      "[b'/temp/dir1/4']\n",
      "[b'/temp/dir1/8']\n",
      "[b'/temp/dir1/9']\n",
      "[b'/temp/dir1/3']\n",
      "[b'/temp/dir2/0']\n",
      "[b'/temp/dir2/1']\n"
     ]
    },
    {
     "name": "stderr",
     "output_type": "stream",
     "text": [
      "Exception ignored in: <bound method BaseSession.__del__ of <tensorflow.python.client.session.InteractiveSession object at 0x7fdea46beb70>>\n",
      "Traceback (most recent call last):\n",
      "  File \"/usr/lib/python3.5/site-packages/tensorflow/python/client/session.py\", line 136, in __del__\n",
      "    self.close()\n",
      "  File \"/usr/lib/python3.5/site-packages/tensorflow/python/client/session.py\", line 820, in close\n",
      "    self._default_session.__exit__(None, None, None)\n",
      "  File \"/usr/lib/python3.5/contextlib.py\", line 66, in __exit__\n",
      "    next(self.gen)\n",
      "  File \"/usr/lib/python3.5/site-packages/tensorflow/python/framework/ops.py\", line 3149, in get_controller\n",
      "    assert self.stack[-1] is default\n",
      "AssertionError: \n"
     ]
    }
   ],
   "source": [
    "import tensorflow as tf\n",
    "\n",
    "filename_queue = tf.RandomShuffleQueue(100, 0, tf.string)\n",
    "enqueue_placeholder = tf.placeholder(dtype=tf.string)\n",
    "enqueue_op = filename_queue.enqueue(enqueue_placeholder)\n",
    "#enqueue_op = filename_queue.enqueue_many(enqueue_placeholder)\n",
    "\n",
    "dequeue_op = filename_queue.dequeue()\n",
    "\n",
    "config = tf.ConfigProto()\n",
    "config.operation_timeout_in_ms=2000  # for debugging queue hangs\n",
    "sess = tf.InteractiveSession(config=config)\n",
    "coord = tf.train.Coordinator()\n",
    "threads = tf.train.start_queue_runners(coord=coord)\n",
    "\n",
    "for i in range(10):\n",
    "  sess.run([enqueue_op], feed_dict={enqueue_placeholder: \"/temp/dir1/\"+str(i)})\n",
    "#sess.run([enqueue_op], feed_dict={enqueue_placeholder:\"/temp/dir1/1\"})\n",
    "\n",
    "# do stats for /temp/dir1\n",
    "sz = sess.run([filename_queue.size()])[0]\n",
    "for i in range(sz):\n",
    "  print(sess.run([dequeue_op]))\n",
    "\n",
    "sess.run([enqueue_op], feed_dict={enqueue_placeholder:\"/temp/dir2/0\"})\n",
    "sess.run([enqueue_op], feed_dict={enqueue_placeholder:\"/temp/dir2/1\"})\n",
    "\n",
    "# do stats for /temp/dir2\n",
    "print(sess.run([dequeue_op]))\n",
    "print(sess.run([dequeue_op]))\n",
    "\n",
    "coord.request_stop()\n",
    "coord.join(threads)"
   ]
  },
  {
   "cell_type": "code",
   "execution_count": 31,
   "metadata": {
    "collapsed": false
   },
   "outputs": [
    {
     "data": {
      "text/plain": [
       "[]"
      ]
     },
     "execution_count": 31,
     "metadata": {},
     "output_type": "execute_result"
    }
   ],
   "source": [
    "tf.reset_default_graph()\n",
    "tf.all_variables()"
   ]
  },
  {
   "cell_type": "code",
   "execution_count": 10,
   "metadata": {
    "collapsed": false
   },
   "outputs": [
    {
     "data": {
      "text/plain": [
       "[]"
      ]
     },
     "execution_count": 10,
     "metadata": {},
     "output_type": "execute_result"
    }
   ],
   "source": []
  },
  {
   "cell_type": "code",
   "execution_count": null,
   "metadata": {
    "collapsed": true
   },
   "outputs": [],
   "source": []
  }
 ],
 "metadata": {
  "kernelspec": {
   "display_name": "Python 3",
   "language": "python",
   "name": "python3"
  },
  "language_info": {
   "codemirror_mode": {
    "name": "ipython",
    "version": 3
   },
   "file_extension": ".py",
   "mimetype": "text/x-python",
   "name": "python",
   "nbconvert_exporter": "python",
   "pygments_lexer": "ipython3",
   "version": "3.5.1"
  }
 },
 "nbformat": 4,
 "nbformat_minor": 0
}
